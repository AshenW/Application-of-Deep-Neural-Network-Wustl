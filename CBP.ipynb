{
 "cells": [
  {
   "cell_type": "code",
   "execution_count": 1,
   "metadata": {},
   "outputs": [
    {
     "name": "stderr",
     "output_type": "stream",
     "text": [
      "Using TensorFlow backend.\n"
     ]
    }
   ],
   "source": [
    "import numpy as np # linear algebra\n",
    "import pandas as pd # data processing, CSV file I/O (e.g. pd.read_csv)\n",
    "from scipy.stats import zscore\n",
    "from keras.models import Sequential\n",
    "from keras.layers.core import Dense, Activation, Dropout\n",
    "import pandas as pd\n",
    "import io\n",
    "import requests\n",
    "import numpy as np\n",
    "from sklearn import metrics\n",
    "from sklearn.model_selection import KFold\n",
    "from keras.callbacks import EarlyStopping\n",
    "from keras.callbacks import ModelCheckpoint\n",
    "import lightgbm as lgb\n",
    "from bayes_opt import BayesianOptimization\n",
    "import warnings, gc\n",
    "import re"
   ]
  },
  {
   "cell_type": "code",
   "execution_count": 3,
   "metadata": {},
   "outputs": [],
   "source": [
    "#functions\n",
    "def multi_merge(left,right,*args):\n",
    "    start = args[0]\n",
    "    for i in range(1,len(args)):\n",
    "        start = start.merge(args[i], how = 'left', left_on = left, right_on = right)\n",
    "    return start\n",
    "\n",
    "def to_xy(df, target):\n",
    "    result = []\n",
    "    for x in df.columns:\n",
    "        if x != target:\n",
    "            result.append(x)\n",
    "    # find out the type of the target column.  Is it really this hard? :(\n",
    "    target_type = df[target].dtypes\n",
    "    target_type = target_type[0] if hasattr(\n",
    "        target_type, '__iter__') else target_type\n",
    "    # Encode to int for classification, float otherwise. TensorFlow likes 32 bits.\n",
    "    if target_type not in (np.int64, np.int32):\n",
    "        # Classification\n",
    "        dummies = pd.get_dummies(df[target])\n",
    "        return df[result].values.astype(np.float32), dummies.values.astype(np.float32)\n",
    "    # Regression\n",
    "    return df[result].values.astype(np.float32), df[[target]].values.astype(np.float32)\n",
    "\n",
    "def clean_data(df,year):\n",
    "    column_list = list(df.columns)\n",
    "    A_list = [column for column in column_list if re.match(r'^[A][0-9]{2,10}',column) or re.match(r'^[a][0-9]{2,10}',column)]\n",
    "    N_list = [column for column in column_list if re.match(r'^[N][0-9]{2,10}',column) or re.match(r'^[n][0-9]{2,10}',column)]\n",
    "    O_list = [column for column in column_list if (column not in A_list and column not in N_list and column not in ['STATE','STATEFIPS','state','statefips'])]\n",
    "    if 'n1' in O_list:\n",
    "        N1 = 'n1'\n",
    "    else:\n",
    "        N1 = 'N1'\n",
    "    special = []\n",
    "    pair = []\n",
    "    for name in A_list:\n",
    "        if 'N' + name[1:] not in N_list and 'n' + name[1:] not in N_list:\n",
    "            special.append(name)\n",
    "        else:\n",
    "            pair.append(name)\n",
    "            if 'n' + name[1:] in N_list:\n",
    "                pair.append('n' + name[1:])\n",
    "            else:\n",
    "                pair.append('N' + name[1:])\n",
    "    special = O_list + special\n",
    "    pair = pair + ['zipcode',N1]\n",
    "    df_special = df.loc[:,special]\n",
    "    df_pair = df.loc[:,pair]\n",
    "    for column in list(df_special.columns):\n",
    "        if column != 'zipcode':\n",
    "            df_special[column] = df_special[column]/df_special[N1]\n",
    "    df_special = df_special.groupby(by='zipcode').agg('mean')\n",
    "    #print(df_special)\n",
    "    for name in N_list:\n",
    "        if name[0] == 'N':\n",
    "            A_name = 'A' + name[1:]\n",
    "        else:\n",
    "            A_name = 'a' + name[1:]\n",
    "        df_pair[A_name] = df_pair[A_name]/df_pair[name]\n",
    "        df_pair[name] = df_pair[name]/df_pair[N1]\n",
    "    #print(df_pair)\n",
    "    df_pair = df_pair.groupby(by='zipcode').mean().drop(N1,axis=1)\n",
    "    #print(df_pair)\n",
    "    df_result = df_special.merge(df_pair,how='inner',left_on='zipcode',right_on='zipcode').drop([N1,'agi_stub'],axis=1)\n",
    "    #print(df_pair.shape)\n",
    "    #print(df_special.shape)\n",
    "    #print(df_result.shape)\n",
    "    result_name_list = [name  if name == 'zipcode' else name + '_' + year for name in list(df_result.columns)]\n",
    "    df_result.columns = result_name_list\n",
    "    return df_result\n",
    "\n",
    "def normalization(x):\n",
    "    min_x = min(x)\n",
    "    max_x = max(x)\n",
    "    return np.array([(i-min_x)/(max_x-min_x) for i in x])\n",
    "\n",
    "def zscore_transformation(df):\n",
    "    for name in df.columns:\n",
    "        df[name] = zscore(df[name])\n",
    "    return df.dropna(axis=1).dropna(axis=0)"
   ]
  },
  {
   "cell_type": "markdown",
   "metadata": {},
   "source": [
    "Neural Network using one feature"
   ]
  },
  {
   "cell_type": "code",
   "execution_count": 23,
   "metadata": {},
   "outputs": [],
   "source": [
    "df_cbp = pd.read_csv('./zbp16totals.csv')\n",
    "df_2016 = pd.read_csv('./16zpallagi.csv')\n",
    "df_train = pd.read_csv('./train.csv')\n",
    "df_test = pd.read_csv('./test.csv')"
   ]
  },
  {
   "cell_type": "code",
   "execution_count": 24,
   "metadata": {},
   "outputs": [],
   "source": [
    "df_cbp['est'] = zscore(df_cbp['est'])"
   ]
  },
  {
   "cell_type": "code",
   "execution_count": 25,
   "metadata": {},
   "outputs": [],
   "source": [
    "df_train = df_train.merge(df_cbp,how='left',left_on='zipcode',right_on='zip')\n",
    "df_test = df_test.merge(df_cbp,how='left',left_on='zipcode',right_on='zip')"
   ]
  },
  {
   "cell_type": "code",
   "execution_count": 27,
   "metadata": {},
   "outputs": [],
   "source": [
    "df_train = df_train.loc[:,['est','score']]\n",
    "df_test = df_test.loc[:,['est']]"
   ]
  },
  {
   "cell_type": "code",
   "execution_count": 30,
   "metadata": {},
   "outputs": [],
   "source": [
    "x,y = to_xy(df_train,'score')"
   ]
  },
  {
   "cell_type": "code",
   "execution_count": 31,
   "metadata": {},
   "outputs": [
    {
     "name": "stdout",
     "output_type": "stream",
     "text": [
      "Fold #1\n",
      "Epoch 00217: early stopping\n",
      "Fold score (RMSE): 0.26963096857070923\n",
      "Fold #2\n",
      "Epoch 00236: early stopping\n",
      "Fold score (RMSE): 0.2748175263404846\n",
      "Fold #3\n",
      "Epoch 00249: early stopping\n",
      "Fold score (RMSE): 0.2648850381374359\n",
      "Fold #4\n",
      "Fold score (RMSE): 0.2755565941333771\n",
      "Fold #5\n",
      "Epoch 00205: early stopping\n",
      "Fold score (RMSE): 0.2741800844669342\n",
      "Final score (RMSE): 0.2718437612056732\n"
     ]
    }
   ],
   "source": [
    "from keras import regularizers\n",
    "kf = KFold(5)\n",
    "oos_y = []\n",
    "oos_pred = []\n",
    "fold = 0\n",
    "for train,test in kf.split(x):\n",
    "    fold += 1\n",
    "    print('Fold #{}'.format(fold))\n",
    "    x_train = x[train]\n",
    "    y_train = y[train]\n",
    "    x_test = x[test]\n",
    "    y_test = y[test]\n",
    "    \n",
    "    model = Sequential()\n",
    "    model.add(Dense(20, input_dim=x.shape[1], activation='relu',kernel_regularizer=regularizers.l2(0.01),\\\n",
    "                    activity_regularizer=regularizers.l1(0.01)))\n",
    "    #model.add(Dense(75, activation='relu',kernel_regularizer=regularizers.l2(0.01)))\n",
    "    #model.add(Dense(50, activation='relu',kernel_regularizer=regularizers.l2(0.01),\\\n",
    "                    #activity_regularizer=regularizers.l1(0.01)))\n",
    "    #model.add(Dense(25, activation='relu',kernel_regularizer=regularizers.l2(0.01),\\\n",
    "                    #activity_regularizer=regularizers.l1(0.01)))\n",
    "    model.add(Dense(1))\n",
    "    model.compile(loss='mean_squared_error', optimizer='adam')\n",
    "    monitor = EarlyStopping(monitor='val_loss', min_delta=1e-2, patience=25, verbose=1, mode='auto')\n",
    "    checkpointer = ModelCheckpoint(filepath=\"midterm_model1_best\", verbose=0, save_best_only=True)\n",
    "    model.fit(x_train,y_train,validation_data=(x_test,y_test),callbacks=[monitor,checkpointer],verbose=0,epochs=250)\n",
    "    \n",
    "    pred = model.predict(x_test)\n",
    "    oos_y.append(y_test)\n",
    "    oos_pred.append(pred)\n",
    "    score = np.sqrt(metrics.mean_squared_error(pred,y_test))\n",
    "    print(\"Fold score (RMSE): {}\".format(score))\n",
    "\n",
    "oos_y = np.concatenate(oos_y)\n",
    "oos_pred = np.concatenate(oos_pred)\n",
    "score = metrics.mean_squared_error(oos_pred,oos_y)\n",
    "print(\"Final score (RMSE): {}\".format(np.sqrt(score)))"
   ]
  },
  {
   "cell_type": "code",
   "execution_count": 32,
   "metadata": {},
   "outputs": [],
   "source": [
    "true_test = df_test.values.astype(np.float32)\n",
    "pred_test = model.predict(true_test)\n",
    "pred_test = model.predict(true_test)\n",
    "final_test_score = np.concatenate(pred_test)\n",
    "\n",
    "df_id = pd.read_csv('./test.csv')\n",
    "df_id['score'] = final_test_score\n",
    "df_id = df_id.loc[:,['id','score']]\n",
    "df_id.to_csv('csv_to_submit_regularization.csv', index = False)"
   ]
  },
  {
   "cell_type": "markdown",
   "metadata": {},
   "source": [
    "Adjusting some of the scores to integers"
   ]
  },
  {
   "cell_type": "code",
   "execution_count": 7,
   "metadata": {},
   "outputs": [
    {
     "data": {
      "text/plain": [
       "(29872, 142)"
      ]
     },
     "execution_count": 7,
     "metadata": {},
     "output_type": "execute_result"
    }
   ],
   "source": [
    "import copy\n",
    "df_id_2 = copy.copy(df_id)\n",
    "df_id_2['score'] = df_id_2['score'].apply(lambda x: x if 0.45<x-int(x) and x-int(x)<0.55 else np.round(x))\n",
    "df_id_2.set_index('id',inplace = True)\n",
    "df_id_2.to_csv('range_05.csv')\n",
    "df_2016_result = clean_data(df_2016,'2016')\n",
    "df_2016_result.shape"
   ]
  },
  {
   "cell_type": "markdown",
   "metadata": {},
   "source": [
    "Neural Network with five features"
   ]
  },
  {
   "cell_type": "code",
   "execution_count": 11,
   "metadata": {},
   "outputs": [],
   "source": [
    "df_2016 = clean_data(df_2016,'2016')\n",
    "df_cbp = df_cbp.loc[:,['zip','emp','qp1','ap','est']]\n",
    "df_2016_result = df_2016_result.merge(df_2016_business,how='left',left_on='zipcode',right_on='zip')\n",
    "df_2016_result.head()"
   ]
  },
  {
   "cell_type": "code",
   "execution_count": 13,
   "metadata": {},
   "outputs": [],
   "source": [
    "df_2016_result_2 = df_2016_result.fillna(0)\n",
    "for name in df_2016_result_2.columns:\n",
    "    if name != 'zip':\n",
    "        df_2016_result_2[name] = normalization(df_2016_result_2[name])"
   ]
  },
  {
   "cell_type": "code",
   "execution_count": 14,
   "metadata": {},
   "outputs": [
    {
     "data": {
      "text/plain": [
       "(29872, 147)"
      ]
     },
     "execution_count": 14,
     "metadata": {},
     "output_type": "execute_result"
    }
   ],
   "source": [
    "df_2016_result_2.shape"
   ]
  },
  {
   "cell_type": "code",
   "execution_count": null,
   "metadata": {},
   "outputs": [],
   "source": [
    "df_train = pd.read_csv('./train.csv')\n",
    "df_test = pd.read_csv('./test.csv')\n",
    "df_train = df_train.merge(df_2016_result_2,how='left',left_on='zipcode',right_on='zip').drop(['id','zipcode','zip'],axis=1)\n",
    "df_test = df_test.merge(df_2016_result_2,how='left',left_on='zipcode',right_on='zip').drop(['id','zipcode','zip'],axis=1)"
   ]
  },
  {
   "cell_type": "code",
   "execution_count": 27,
   "metadata": {},
   "outputs": [],
   "source": [
    "df_train_sub = df_train.loc[:,['A00100_2016','emp','qp1','ap','est','score']]\n",
    "df_test_sub = df_test.loc[:,['A00100_2016','emp','qp1','ap','est']]"
   ]
  },
  {
   "cell_type": "code",
   "execution_count": 28,
   "metadata": {},
   "outputs": [],
   "source": [
    "x,y = to_xy(df_train_sub,'score')"
   ]
  },
  {
   "cell_type": "code",
   "execution_count": 17,
   "metadata": {},
   "outputs": [
    {
     "data": {
      "text/html": [
       "<div>\n",
       "<style scoped>\n",
       "    .dataframe tbody tr th:only-of-type {\n",
       "        vertical-align: middle;\n",
       "    }\n",
       "\n",
       "    .dataframe tbody tr th {\n",
       "        vertical-align: top;\n",
       "    }\n",
       "\n",
       "    .dataframe thead th {\n",
       "        text-align: right;\n",
       "    }\n",
       "</style>\n",
       "<table border=\"1\" class=\"dataframe\">\n",
       "  <thead>\n",
       "    <tr style=\"text-align: right;\">\n",
       "      <th></th>\n",
       "      <th>mars1_2016</th>\n",
       "      <th>MARS2_2016</th>\n",
       "      <th>MARS4_2016</th>\n",
       "      <th>PREP_2016</th>\n",
       "      <th>N2_2016</th>\n",
       "      <th>NUMDEP_2016</th>\n",
       "      <th>TOTAL_VITA_2016</th>\n",
       "      <th>VITA_2016</th>\n",
       "      <th>TCE_2016</th>\n",
       "      <th>VITA_EIC_2016</th>\n",
       "      <th>...</th>\n",
       "      <th>A85300_2016</th>\n",
       "      <th>N85300_2016</th>\n",
       "      <th>A11901_2016</th>\n",
       "      <th>N11901_2016</th>\n",
       "      <th>A11902_2016</th>\n",
       "      <th>N11902_2016</th>\n",
       "      <th>emp</th>\n",
       "      <th>qp1</th>\n",
       "      <th>ap</th>\n",
       "      <th>est</th>\n",
       "    </tr>\n",
       "  </thead>\n",
       "  <tbody>\n",
       "    <tr>\n",
       "      <th>0</th>\n",
       "      <td>0.039987</td>\n",
       "      <td>0.055645</td>\n",
       "      <td>0.014787</td>\n",
       "      <td>0.038045</td>\n",
       "      <td>0.049725</td>\n",
       "      <td>0.029456</td>\n",
       "      <td>0.000000</td>\n",
       "      <td>0.000000</td>\n",
       "      <td>0.0</td>\n",
       "      <td>0.0</td>\n",
       "      <td>...</td>\n",
       "      <td>0.008939</td>\n",
       "      <td>0.234375</td>\n",
       "      <td>0.064722</td>\n",
       "      <td>0.375671</td>\n",
       "      <td>0.009448</td>\n",
       "      <td>0.710278</td>\n",
       "      <td>0.004631</td>\n",
       "      <td>0.000568</td>\n",
       "      <td>0.000881</td>\n",
       "      <td>0.014254</td>\n",
       "    </tr>\n",
       "    <tr>\n",
       "      <th>1</th>\n",
       "      <td>0.009197</td>\n",
       "      <td>0.009608</td>\n",
       "      <td>0.008238</td>\n",
       "      <td>0.010402</td>\n",
       "      <td>0.011242</td>\n",
       "      <td>0.009186</td>\n",
       "      <td>0.000000</td>\n",
       "      <td>0.000000</td>\n",
       "      <td>0.0</td>\n",
       "      <td>0.0</td>\n",
       "      <td>...</td>\n",
       "      <td>0.000000</td>\n",
       "      <td>0.000000</td>\n",
       "      <td>0.044508</td>\n",
       "      <td>0.276923</td>\n",
       "      <td>0.008956</td>\n",
       "      <td>0.782949</td>\n",
       "      <td>0.000881</td>\n",
       "      <td>0.000117</td>\n",
       "      <td>0.000155</td>\n",
       "      <td>0.002193</td>\n",
       "    </tr>\n",
       "    <tr>\n",
       "      <th>2</th>\n",
       "      <td>0.002666</td>\n",
       "      <td>0.004003</td>\n",
       "      <td>0.000000</td>\n",
       "      <td>0.003853</td>\n",
       "      <td>0.001441</td>\n",
       "      <td>0.002330</td>\n",
       "      <td>0.000000</td>\n",
       "      <td>0.000000</td>\n",
       "      <td>0.0</td>\n",
       "      <td>0.0</td>\n",
       "      <td>...</td>\n",
       "      <td>0.000000</td>\n",
       "      <td>0.000000</td>\n",
       "      <td>0.000000</td>\n",
       "      <td>0.000000</td>\n",
       "      <td>0.006405</td>\n",
       "      <td>0.666667</td>\n",
       "      <td>0.000030</td>\n",
       "      <td>0.000009</td>\n",
       "      <td>0.000012</td>\n",
       "      <td>0.000685</td>\n",
       "    </tr>\n",
       "    <tr>\n",
       "      <th>3</th>\n",
       "      <td>0.012662</td>\n",
       "      <td>0.006805</td>\n",
       "      <td>0.005809</td>\n",
       "      <td>0.008668</td>\n",
       "      <td>0.007927</td>\n",
       "      <td>0.005159</td>\n",
       "      <td>0.006085</td>\n",
       "      <td>0.013575</td>\n",
       "      <td>0.0</td>\n",
       "      <td>0.0</td>\n",
       "      <td>...</td>\n",
       "      <td>0.055978</td>\n",
       "      <td>0.446429</td>\n",
       "      <td>0.132176</td>\n",
       "      <td>0.504042</td>\n",
       "      <td>0.011297</td>\n",
       "      <td>0.559206</td>\n",
       "      <td>0.019085</td>\n",
       "      <td>0.006599</td>\n",
       "      <td>0.007481</td>\n",
       "      <td>0.008498</td>\n",
       "    </tr>\n",
       "    <tr>\n",
       "      <th>4</th>\n",
       "      <td>0.011596</td>\n",
       "      <td>0.015853</td>\n",
       "      <td>0.003802</td>\n",
       "      <td>0.011847</td>\n",
       "      <td>0.013080</td>\n",
       "      <td>0.008987</td>\n",
       "      <td>0.000000</td>\n",
       "      <td>0.000000</td>\n",
       "      <td>0.0</td>\n",
       "      <td>0.0</td>\n",
       "      <td>...</td>\n",
       "      <td>0.000000</td>\n",
       "      <td>0.000000</td>\n",
       "      <td>0.056094</td>\n",
       "      <td>0.497667</td>\n",
       "      <td>0.008781</td>\n",
       "      <td>0.619012</td>\n",
       "      <td>0.001270</td>\n",
       "      <td>0.000145</td>\n",
       "      <td>0.000214</td>\n",
       "      <td>0.005208</td>\n",
       "    </tr>\n",
       "  </tbody>\n",
       "</table>\n",
       "<p>5 rows × 146 columns</p>\n",
       "</div>"
      ],
      "text/plain": [
       "   mars1_2016  MARS2_2016  MARS4_2016  PREP_2016   N2_2016  NUMDEP_2016  \\\n",
       "0    0.039987    0.055645    0.014787   0.038045  0.049725     0.029456   \n",
       "1    0.009197    0.009608    0.008238   0.010402  0.011242     0.009186   \n",
       "2    0.002666    0.004003    0.000000   0.003853  0.001441     0.002330   \n",
       "3    0.012662    0.006805    0.005809   0.008668  0.007927     0.005159   \n",
       "4    0.011596    0.015853    0.003802   0.011847  0.013080     0.008987   \n",
       "\n",
       "   TOTAL_VITA_2016  VITA_2016  TCE_2016  VITA_EIC_2016    ...     A85300_2016  \\\n",
       "0         0.000000   0.000000       0.0            0.0    ...        0.008939   \n",
       "1         0.000000   0.000000       0.0            0.0    ...        0.000000   \n",
       "2         0.000000   0.000000       0.0            0.0    ...        0.000000   \n",
       "3         0.006085   0.013575       0.0            0.0    ...        0.055978   \n",
       "4         0.000000   0.000000       0.0            0.0    ...        0.000000   \n",
       "\n",
       "   N85300_2016  A11901_2016  N11901_2016  A11902_2016  N11902_2016       emp  \\\n",
       "0     0.234375     0.064722     0.375671     0.009448     0.710278  0.004631   \n",
       "1     0.000000     0.044508     0.276923     0.008956     0.782949  0.000881   \n",
       "2     0.000000     0.000000     0.000000     0.006405     0.666667  0.000030   \n",
       "3     0.446429     0.132176     0.504042     0.011297     0.559206  0.019085   \n",
       "4     0.000000     0.056094     0.497667     0.008781     0.619012  0.001270   \n",
       "\n",
       "        qp1        ap       est  \n",
       "0  0.000568  0.000881  0.014254  \n",
       "1  0.000117  0.000155  0.002193  \n",
       "2  0.000009  0.000012  0.000685  \n",
       "3  0.006599  0.007481  0.008498  \n",
       "4  0.000145  0.000214  0.005208  \n",
       "\n",
       "[5 rows x 146 columns]"
      ]
     },
     "execution_count": 17,
     "metadata": {},
     "output_type": "execute_result"
    }
   ],
   "source": [
    "df_test.head()"
   ]
  },
  {
   "cell_type": "code",
   "execution_count": 29,
   "metadata": {},
   "outputs": [
    {
     "name": "stdout",
     "output_type": "stream",
     "text": [
      "Fold #1\n",
      "Fold score (RMSE): 0.2908724844455719\n",
      "Fold #2\n",
      "Fold score (RMSE): 0.3195555508136749\n",
      "Fold #3\n",
      "Fold score (RMSE): 0.29362648725509644\n",
      "Fold #4\n",
      "Fold score (RMSE): 0.29371967911720276\n",
      "Fold #5\n",
      "Fold score (RMSE): 0.2938407063484192\n",
      "Final score (RMSE): 0.2985142767429352\n"
     ]
    }
   ],
   "source": [
    "from keras import regularizers\n",
    "kf = KFold(5)\n",
    "oos_y = []\n",
    "oos_pred = []\n",
    "fold = 0\n",
    "for train,test in kf.split(x):\n",
    "    fold += 1\n",
    "    print('Fold #{}'.format(fold))\n",
    "    x_train = x[train]\n",
    "    y_train = y[train]\n",
    "    x_test = x[test]\n",
    "    y_test = y[test]\n",
    "    \n",
    "    model = Sequential()\n",
    "    model.add(Dense(20, input_dim=x.shape[1], activation='relu',kernel_regularizer=regularizers.l2(0.01),\\\n",
    "                    activity_regularizer=regularizers.l1(0.01)))\n",
    "    #model.add(Dense(75, activation='relu',kernel_regularizer=regularizers.l2(0.01)))\n",
    "    #model.add(Dense(50, activation='relu',kernel_regularizer=regularizers.l2(0.01),\\\n",
    "                    #activity_regularizer=regularizers.l1(0.01)))\n",
    "    #model.add(Dense(25, activation='relu',kernel_regularizer=regularizers.l2(0.01),\\\n",
    "                    #activity_regularizer=regularizers.l1(0.01)))\n",
    "    model.add(Dense(1))\n",
    "    model.compile(loss='mean_squared_error', optimizer='adam')\n",
    "    monitor = EarlyStopping(monitor='val_loss', min_delta=1e-2, patience=25, verbose=1, mode='auto')\n",
    "    checkpointer = ModelCheckpoint(filepath=\"midterm_model1_best\", verbose=0, save_best_only=True)\n",
    "    model.fit(x_train,y_train,validation_data=(x_test,y_test),callbacks=[monitor,checkpointer],verbose=0,epochs=250)\n",
    "    \n",
    "    pred = model.predict(x_test)\n",
    "    oos_y.append(y_test)\n",
    "    oos_pred.append(pred)\n",
    "    score = np.sqrt(metrics.mean_squared_error(pred,y_test))\n",
    "    print(\"Fold score (RMSE): {}\".format(score))\n",
    "\n",
    "oos_y = np.concatenate(oos_y)\n",
    "oos_pred = np.concatenate(oos_pred)\n",
    "score = metrics.mean_squared_error(oos_pred,oos_y)\n",
    "print(\"Final score (RMSE): {}\".format(np.sqrt(score)))"
   ]
  },
  {
   "cell_type": "code",
   "execution_count": 30,
   "metadata": {},
   "outputs": [],
   "source": [
    "true_test = df_test_sub.values.astype(np.float32)\n",
    "pred_test = model.predict(true_test)\n",
    "pred_test = model.predict(true_test)\n",
    "final_test_score = np.concatenate(pred_test)\n",
    "\n",
    "df_id = pd.read_csv('./test.csv')\n",
    "df_id['score'] = final_test_score\n",
    "df_id = df_id.loc[:,['id','score']]\n",
    "df_id.to_csv('csv_to_submit_regularization.csv', index = False)"
   ]
  },
  {
   "cell_type": "markdown",
   "metadata": {},
   "source": [
    "Data Visualization"
   ]
  },
  {
   "cell_type": "code",
   "execution_count": 3,
   "metadata": {},
   "outputs": [],
   "source": [
    "df_train = pd.read_csv('./train.csv')\n",
    "df_test = pd.read_csv('./test.csv')\n",
    "df_feature = pd.read_csv('./zbp16totals.csv')\n",
    "df_train = df_train.merge(df_feature,how='left',left_on='zipcode',right_on='zip')\n",
    "df_test = df_test.merge(df_feature,how='left',left_on='zipcode',right_on='zip')\n",
    "df_train = df_train.loc[:,['score','emp','qp1','ap','est']]\n",
    "df_test = df_test.loc[:,['emp','qp1','ap','est']]"
   ]
  },
  {
   "cell_type": "code",
   "execution_count": 4,
   "metadata": {},
   "outputs": [
    {
     "data": {
      "image/png": "[encoded data removed]",
      "text/plain": [
       "<Figure size 432x288 with 2 Axes>"
      ]
     },
     "metadata": {},
     "output_type": "display_data"
    }
   ],
   "source": [
    "import seaborn as sns\n",
    "corr = df_train.corr()\n",
    "ax = sns.heatmap(\n",
    "    corr, \n",
    "    vmin=-1, vmax=1, center=0,\n",
    "    cmap=sns.diverging_palette(20, 220, n=200),\n",
    "    square=True\n",
    ")\n",
    "ax.set_xticklabels(\n",
    "    ax.get_xticklabels(),\n",
    "    rotation=45,\n",
    "    horizontalalignment='right'\n",
    ");"
   ]
  },
  {
   "cell_type": "code",
   "execution_count": 6,
   "metadata": {},
   "outputs": [
    {
     "data": {
      "text/html": [
       "<div>\n",
       "<style scoped>\n",
       "    .dataframe tbody tr th:only-of-type {\n",
       "        vertical-align: middle;\n",
       "    }\n",
       "\n",
       "    .dataframe tbody tr th {\n",
       "        vertical-align: top;\n",
       "    }\n",
       "\n",
       "    .dataframe thead th {\n",
       "        text-align: right;\n",
       "    }\n",
       "</style>\n",
       "<table border=\"1\" class=\"dataframe\">\n",
       "  <thead>\n",
       "    <tr style=\"text-align: right;\">\n",
       "      <th></th>\n",
       "      <th>count</th>\n",
       "      <th>min</th>\n",
       "      <th>max</th>\n",
       "      <th>range</th>\n",
       "    </tr>\n",
       "    <tr>\n",
       "      <th>score</th>\n",
       "      <th></th>\n",
       "      <th></th>\n",
       "      <th></th>\n",
       "      <th></th>\n",
       "    </tr>\n",
       "  </thead>\n",
       "  <tbody>\n",
       "    <tr>\n",
       "      <th>0</th>\n",
       "      <td>5467</td>\n",
       "      <td>1</td>\n",
       "      <td>14</td>\n",
       "      <td>13</td>\n",
       "    </tr>\n",
       "    <tr>\n",
       "      <th>1</th>\n",
       "      <td>4725</td>\n",
       "      <td>15</td>\n",
       "      <td>42</td>\n",
       "      <td>27</td>\n",
       "    </tr>\n",
       "    <tr>\n",
       "      <th>2</th>\n",
       "      <td>2097</td>\n",
       "      <td>43</td>\n",
       "      <td>70</td>\n",
       "      <td>27</td>\n",
       "    </tr>\n",
       "    <tr>\n",
       "      <th>3</th>\n",
       "      <td>1244</td>\n",
       "      <td>71</td>\n",
       "      <td>98</td>\n",
       "      <td>27</td>\n",
       "    </tr>\n",
       "    <tr>\n",
       "      <th>4</th>\n",
       "      <td>891</td>\n",
       "      <td>99</td>\n",
       "      <td>126</td>\n",
       "      <td>27</td>\n",
       "    </tr>\n",
       "    <tr>\n",
       "      <th>5</th>\n",
       "      <td>731</td>\n",
       "      <td>127</td>\n",
       "      <td>154</td>\n",
       "      <td>27</td>\n",
       "    </tr>\n",
       "    <tr>\n",
       "      <th>6</th>\n",
       "      <td>593</td>\n",
       "      <td>155</td>\n",
       "      <td>182</td>\n",
       "      <td>27</td>\n",
       "    </tr>\n",
       "    <tr>\n",
       "      <th>7</th>\n",
       "      <td>481</td>\n",
       "      <td>183</td>\n",
       "      <td>210</td>\n",
       "      <td>27</td>\n",
       "    </tr>\n",
       "    <tr>\n",
       "      <th>8</th>\n",
       "      <td>477</td>\n",
       "      <td>211</td>\n",
       "      <td>238</td>\n",
       "      <td>27</td>\n",
       "    </tr>\n",
       "    <tr>\n",
       "      <th>9</th>\n",
       "      <td>396</td>\n",
       "      <td>239</td>\n",
       "      <td>266</td>\n",
       "      <td>27</td>\n",
       "    </tr>\n",
       "  </tbody>\n",
       "</table>\n",
       "</div>"
      ],
      "text/plain": [
       "       count  min  max  range\n",
       "score                        \n",
       "0       5467    1   14     13\n",
       "1       4725   15   42     27\n",
       "2       2097   43   70     27\n",
       "3       1244   71   98     27\n",
       "4        891   99  126     27\n",
       "5        731  127  154     27\n",
       "6        593  155  182     27\n",
       "7        481  183  210     27\n",
       "8        477  211  238     27\n",
       "9        396  239  266     27"
      ]
     },
     "execution_count": 6,
     "metadata": {},
     "output_type": "execute_result"
    }
   ],
   "source": [
    "df_score_est = df_train.loc[:,['score','est']]\n",
    "df_score_summary = df_score_est.groupby(by='score').apply(lambda x: pd.Series({'count':x.shape[0],\\\n",
    "                                                                               'min':min(x.est),\\\n",
    "                                                                               'max':max(x.est),\\\n",
    "                                                                               'range':max(x.est)-min(x.est)}))\n",
    "df_score_summary.head(10)"
   ]
  },
  {
   "cell_type": "code",
   "execution_count": null,
   "metadata": {},
   "outputs": [],
   "source": []
  }
 ],
 "metadata": {
  "kernelspec": {
   "display_name": "Python 3",
   "language": "python",
   "name": "python3"
  },
  "language_info": {
   "codemirror_mode": {
    "name": "ipython",
    "version": 3
   },
   "file_extension": ".py",
   "mimetype": "text/x-python",
   "name": "python",
   "nbconvert_exporter": "python",
   "pygments_lexer": "ipython3",
   "version": "3.6.5"
  }
 },
 "nbformat": 4,
 "nbformat_minor": 2
}
